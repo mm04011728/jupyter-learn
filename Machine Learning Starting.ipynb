{
 "cells": [
  {
   "cell_type": "markdown",
   "metadata": {},
   "source": [
    "# 什么是机器学习？\n",
    "## 我认为通俗的讲就是让计算机像人类一样通过'学习',来进行'思考'.\n",
    "## 正式定义:对于一个计算机程序来说，给他一个任务T和一个性能测量方法P,如果在经验E的影响下，P对T的测量结果得到了改进，那么我们就说该程序从E中学习.\n",
    "\n",
    "# 监督学习\n",
    "## 假设去收集一组房屋的价格数据"
   ]
  },
  {
   "cell_type": "code",
   "execution_count": 28,
   "metadata": {},
   "outputs": [],
   "source": [
    "import numpy as np\n",
    "import matplotlib.pyplot as plt\n",
    "\n",
    "columns = ('area(ft)','price($)')\n",
    "data = []\n",
    "area, price = [], []\n",
    "for sample in open(\"house_prices.csv\", 'r'):\n",
    "    _x, _y = sample.rstrip(' \\n').split(\",\")\n",
    "    # 将字符串数据转化为浮点数\n",
    "    data.append((_x,_y))\n",
    "    area.append(float(_x))\n",
    "    price.append(float(_y))\n",
    "n_rows = len(data)\n",
    "rows = [i + 1 for i in range(n_rows) ]\n",
    "data.insert(0,columns)\n",
    "data = data[:10]\n"
   ]
  },
  {
   "cell_type": "code",
   "execution_count": 29,
   "metadata": {},
   "outputs": [
    {
     "data": {
      "text/html": [
       "<table>\n",
       "<tbody>\n",
       "<tr><td>area(m2)</td><td>price($)</td></tr>\n",
       "<tr><td>2104    </td><td>399900  </td></tr>\n",
       "<tr><td>1600    </td><td>329900  </td></tr>\n",
       "<tr><td>2400    </td><td>369000  </td></tr>\n",
       "<tr><td>1416    </td><td>232000  </td></tr>\n",
       "<tr><td>3000    </td><td>539900  </td></tr>\n",
       "<tr><td>1985    </td><td>299900  </td></tr>\n",
       "<tr><td>1534    </td><td>314900  </td></tr>\n",
       "<tr><td>1427    </td><td>198999  </td></tr>\n",
       "<tr><td>1380    </td><td>212000  </td></tr>\n",
       "</tbody>\n",
       "</table>"
      ],
      "text/plain": [
       "<IPython.core.display.HTML object>"
      ]
     },
     "metadata": {},
     "output_type": "display_data"
    }
   ],
   "source": [
    "from IPython.display import HTML, display\n",
    "import tabulate\n",
    "\n",
    "display(HTML(tabulate.tabulate(data, tablefmt='html')))"
   ]
  }
 ],
 "metadata": {
  "kernelspec": {
   "display_name": "Python 3",
   "language": "python",
   "name": "python3"
  },
  "language_info": {
   "codemirror_mode": {
    "name": "ipython",
    "version": 3
   },
   "file_extension": ".py",
   "mimetype": "text/x-python",
   "name": "python",
   "nbconvert_exporter": "python",
   "pygments_lexer": "ipython3",
   "version": "3.6.4"
  }
 },
 "nbformat": 4,
 "nbformat_minor": 2
}
